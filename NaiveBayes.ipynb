{
 "cells": [
  {
   "cell_type": "markdown",
   "metadata": {},
   "source": [
    "# Introduction\n",
    "We will use the Decision Tree algorithm using the Breast Cancer dataset. We'll demonstrate how the choices of different splitting criteria (Information and Gini Index) and tree pruning (max depth) affect the classification results. We'll print the results of the classification and visualize the accuracy vs hyperparameters for comparison."
   ]
  },
  {
   "cell_type": "markdown",
   "metadata": {},
   "source": [
    "# Naive Bayes Algorithm\n",
    "\n",
    "## Overview\n",
    "Naive Bayes is a probabilistic classification algorithm based on **Bayes' Theorem**. It assumes that the features are **conditionally independent**, given the class label. This strong independence assumption is what makes it \"naive.\" Despite its simplicity, Naive Bayes is effective and widely used in various classification tasks, especially in **text classification** (e.g., spam detection, sentiment analysis).\n",
    "\n",
    "## Bayes' Theorem\n",
    "Bayes' Theorem is the core principle behind Naive Bayes. It calculates the posterior probability of a class, given a set of features:\n",
    "\n",
    "$$\n",
    "P(C|X) = \\frac{P(X|C) \\cdot P(C)}{P(X)}\n",
    "$$\n",
    "\n",
    "Where:\n",
    "- \\(P(C|X)\\) is the **posterior probability**: the probability of class \\(C\\) given the features \\(X\\).\n",
    "- \\(P(X|C)\\) is the **likelihood**: the probability of observing the features \\(X\\) given class \\(C\\).\n",
    "- \\(P(C)\\) is the **prior probability**: the probability of class \\(C\\) occurring.\n",
    "- \\(P(X)\\) is the **evidence**: the total probability of observing features \\(X\\) across all classes.\n",
    "\n",
    "## Types of Naive Bayes Classifiers\n",
    "1. **Gaussian Naive Bayes**: Assumes that the continuous features follow a Gaussian (normal) distribution.\n",
    "2. **Multinomial Naive Bayes**: Suitable for discrete data like word counts in text classification (bag of words model).\n",
    "3. **Bernoulli Naive Bayes**: Works with binary/boolean features, making it ideal for binary data (e.g., whether a word appears in a document or not).\n",
    "\n",
    "## Advantages\n",
    "- **Simple and fast**: It is easy to implement and works well for large datasets.\n",
    "- **Efficient for text classification**: Performs well with high-dimensional data, especially in **Natural Language Processing** (NLP) tasks.\n",
    "- **Handles multiple classes**: Naturally supports multi-class classification problems.\n",
    "\n",
    "## Limitations\n",
    "- **Strong independence assumption**: Assumes that features are independent, which is often not the case in real-world data.\n",
    "- **Zero-frequency problem**: If a category or feature value was never observed in the training data, it gets a probability of zero, which can be addressed by techniques like **Laplace smoothing**.\n",
    "\n",
    "## Example Use Cases\n",
    "- **Spam detection**: Classifying emails as spam or not based on word occurrence.\n",
    "- **Sentiment analysis**: Determining whether a review or comment has positive or negative sentiment.\n",
    "- **Document classification**: Categorizing documents into predefined classes."
   ]
  },
  {
   "cell_type": "markdown",
   "metadata": {},
   "source": [
    "# Setup\n",
    "Import necessary librairies and load the Breast Cancer dataset"
   ]
  },
  {
   "cell_type": "code",
   "execution_count": 1,
   "metadata": {},
   "outputs": [],
   "source": [
    "import numpy as np\n",
    "import pandas as pd\n",
    "import matplotlib.pyplot as plt\n",
    "from sklearn.datasets import load_breast_cancer\n",
    "from sklearn.model_selection import train_test_split\n",
    "from sklearn.naive_bayes import GaussianNB\n",
    "from sklearn.metrics import accuracy_score, classification_report, confusion_matrix\n",
    "\n",
    "# Load the breast cancer dataset\n",
    "data = load_breast_cancer()\n",
    "X = pd.DataFrame(data.data, columns=data.feature_names)\n",
    "y = pd.Series(data.target)"
   ]
  },
  {
   "cell_type": "markdown",
   "metadata": {},
   "source": [
    "# Split the dataset into training and testing sets"
   ]
  },
  {
   "cell_type": "code",
   "execution_count": 2,
   "metadata": {},
   "outputs": [],
   "source": [
    "# Split the data into training and test sets (80% training, 20% test)\n",
    "# random_state is set to 42 to ensure reproducibility\n",
    "X_train, X_test, y_train, y_test = train_test_split(X, y, test_size=0.2, random_state=42)"
   ]
  },
  {
   "cell_type": "markdown",
   "metadata": {},
   "source": [
    "## Create and train the Naive Bayes model"
   ]
  },
  {
   "cell_type": "code",
   "execution_count": 3,
   "metadata": {},
   "outputs": [],
   "source": [
    "# Create the Naive Bayes classifier\n",
    "clf = GaussianNB()\n",
    "\n",
    "# Train the classifier\n",
    "clf.fit(X_train, y_train)\n",
    "\n",
    "# Make predictions on the test set\n",
    "y_pred = clf.predict(X_test)\n",
    "\n",
    "# Calculate the accuracy of the classifier\n",
    "accuracy = accuracy_score(y_test, y_pred)"
   ]
  },
  {
   "cell_type": "code",
   "execution_count": 4,
   "metadata": {},
   "outputs": [
    {
     "name": "stdout",
     "output_type": "stream",
     "text": [
      "Accuracy: 0.97\n"
     ]
    }
   ],
   "source": [
    "# print the accuracy of the classifier\n",
    "print(f'Accuracy: {accuracy:.2f}')"
   ]
  },
  {
   "cell_type": "markdown",
   "metadata": {},
   "source": [
    "# Conclusion"
   ]
  },
  {
   "cell_type": "markdown",
   "metadata": {},
   "source": [
    "This tutorial covers the Naive Bayes algorithm using the Breast Cancer dataset. It demonstrates how to create and train the Naive Bayes model for classification and prints the accuracy of the model on the test set.\n",
    "\n",
    "Naive Bayes is a simple yet powerful algorithm for classification tasks, especially when dealing with text or categorical data."
   ]
  }
 ],
 "metadata": {
  "kernelspec": {
   "display_name": "venv",
   "language": "python",
   "name": "python3"
  },
  "language_info": {
   "codemirror_mode": {
    "name": "ipython",
    "version": 3
   },
   "file_extension": ".py",
   "mimetype": "text/x-python",
   "name": "python",
   "nbconvert_exporter": "python",
   "pygments_lexer": "ipython3",
   "version": "3.12.4"
  }
 },
 "nbformat": 4,
 "nbformat_minor": 2
}
