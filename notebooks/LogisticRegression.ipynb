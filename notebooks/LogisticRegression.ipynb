{
 "cells": [
  {
   "cell_type": "markdown",
   "metadata": {},
   "source": [
    "# Introduction\n",
    "We will use the SVM (Support Vector Machine) algorithm using the Breast Cancer dataset. We'll demonstrate the difference between soft and hard margin SVM and show how the regularization parameter (C) affects the classification results. We'll print the results of the classification and visualize the accuracy vs hyperparameter (C) at the end for comparison.\n",
    "\n",
    "# Logistic Regression\n",
    "\n",
    "## Overview\n",
    "**Logistic Regression** is a supervised learning algorithm used for binary classification tasks. Unlike linear regression, which is used for continuous outcomes, logistic regression predicts the probability of a binary outcome (i.e., one of two possible classes). Logistic regression models the probability that a given input belongs to a certain class using the **logistic (sigmoid) function**.\n",
    "\n",
    "## Logistic Function (Sigmoid Function)\n",
    "The logistic function maps any real-valued number to a value between 0 and 1, which can be interpreted as a probability. The logistic function is given by:\n",
    "\n",
    "$$\n",
    "\\sigma(z) = \\frac{1}{1 + e^{-z}}\n",
    "$$\n",
    "\n",
    "Where:\n",
    "- \\( z = w \\cdot x + b \\) is the linear combination of input features.\n",
    "- \\( w \\) is the weight vector.\n",
    "- \\( b \\) is the bias term.\n",
    "- \\( \\sigma(z) \\) is the predicted probability that the input belongs to the positive class (class 1).\n",
    "\n",
    "### Decision Boundary\n",
    "Logistic regression uses the logistic function to predict probabilities. If the predicted probability \\( P(y=1|x) \\) is greater than 0.5, the data point is classified as class 1 (positive class), otherwise it is classified as class 0 (negative class).\n",
    "\n",
    "### Log-Odds and Logistic Regression\n",
    "The model can be interpreted in terms of **log-odds**. The log-odds of the probability \\( P(y=1|x) \\) is a linear function of the input features:\n",
    "\n",
    "$$\n",
    "\\log\\left(\\frac{P(y=1|x)}{1 - P(y=1|x)}\\right) = w \\cdot x + b\n",
    "$$\n",
    "\n",
    "This linear relationship in log-odds allows us to model the probabilities in a classification setting.\n",
    "\n",
    "## Cost Function (Log Loss)\n",
    "In logistic regression, the goal is to find the optimal weights \\( w \\) and bias \\( b \\) that minimize the difference between the predicted probabilities and the actual labels. The cost function used is the **logistic loss (log loss)**, which is given by:\n",
    "\n",
    "$$\n",
    "J(w, b) = -\\frac{1}{m} \\sum_{i=1}^{m} \\left[y^{(i)} \\log(h_w(x^{(i)})) + (1 - y^{(i)}) \\log(1 - h_w(x^{(i)})) \\right]\n",
    "$$\n",
    "\n",
    "Where:\n",
    "- \\( m \\) is the number of training examples.\n",
    "- \\( y^{(i)} \\) is the actual label for the \\(i\\)-th training example.\n",
    "- \\( h_w(x^{(i)}) = \\sigma(w \\cdot x^{(i)} + b) \\) is the predicted probability for the \\(i\\)-th example.\n",
    "  \n",
    "Minimizing the cost function results in the best-fit weights for predicting the probability of the positive class.\n",
    "\n",
    "## Gradient Descent\n",
    "Logistic regression typically uses **gradient descent** to minimize the cost function. Gradient descent updates the weights by moving in the direction of the negative gradient of the cost function:\n",
    "\n",
    "$$\n",
    "w := w - \\alpha \\frac{\\partial J(w)}{\\partial w}\n",
    "$$\n",
    "\n",
    "Where:\n",
    "- \\( \\alpha \\) is the learning rate.\n",
    "- \\( \\frac{\\partial J(w)}{\\partial w} \\) is the gradient of the cost function with respect to the weights.\n",
    "\n",
    "## Regularization\n",
    "To prevent overfitting, logistic regression can include regularization terms. Two common types of regularization are:\n",
    "1. **L2 Regularization (Ridge)**:\n",
    "   $$ J(w, b) = -\\frac{1}{m} \\sum_{i=1}^{m} \\left[y^{(i)} \\log(h_w(x^{(i)})) + (1 - y^{(i)}) \\log(1 - h_w(x^{(i)})) \\right] + \\frac{\\lambda}{2m} \\sum_{j=1}^{n} w_j^2 $$\n",
    "   \n",
    "   This penalizes large weights and helps prevent overfitting by shrinking the weights.\n",
    "   \n",
    "2. **L1 Regularization (Lasso)**:\n",
    "   $$ J(w, b) = -\\frac{1}{m} \\sum_{i=1}^{m} \\left[y^{(i)} \\log(h_w(x^{(i)})) + (1 - y^{(i)}) \\log(1 - h_w(x^{(i)})) \\right] + \\frac{\\lambda}{m} \\sum_{j=1}^{n} |w_j| $$\n",
    "\n",
    "   L1 regularization can lead to sparse models, where some feature weights are reduced to zero.\n",
    "\n",
    "## Multiclass Classification (One-vs-Rest)\n",
    "Although logistic regression is primarily used for binary classification, it can be extended to handle multiclass classification through the **One-vs-Rest (OvR)** approach. In OvR, a separate binary classifier is trained for each class, and the class with the highest probability is selected.\n",
    "\n",
    "## Advantages of Logistic Regression\n",
    "- **Interpretable**: The output probabilities and model coefficients are easily interpretable.\n",
    "- **Efficient**: Logistic regression is computationally efficient, even on large datasets.\n",
    "- **Works well with linearly separable data**: Logistic regression performs well when the data is linearly separable or close to linearly separable.\n",
    "\n",
    "## Limitations of Logistic Regression\n",
    "- **Limited to linear decision boundaries**: Logistic regression only works well when the relationship between the features and the target is approximately linear.\n",
    "- **Sensitive to outliers**: Logistic regression can be sensitive to outliers, especially if regularization is not used.\n",
    "\n",
    "\n"
   ]
  },
  {
   "cell_type": "markdown",
   "metadata": {},
   "source": [
    "# Setup\n",
    "Import necessary librairies and load the Breast Cancer dataset"
   ]
  },
  {
   "cell_type": "code",
   "execution_count": 1,
   "metadata": {},
   "outputs": [],
   "source": [
    "import numpy as np\n",
    "import pandas as pd\n",
    "import matplotlib.pyplot as plt\n",
    "from sklearn.datasets import load_breast_cancer\n",
    "from sklearn.model_selection import train_test_split\n",
    "from sklearn.linear_model import LogisticRegression\n",
    "from sklearn.metrics import accuracy_score\n",
    "\n",
    "# Load the breast cancer dataset\n",
    "data = load_breast_cancer()\n",
    "X = pd.DataFrame(data.data, columns=data.feature_names)\n",
    "y = pd.Series(data.target)"
   ]
  },
  {
   "cell_type": "markdown",
   "metadata": {},
   "source": [
    "# Split the dataset into training and testing sets"
   ]
  },
  {
   "cell_type": "code",
   "execution_count": 2,
   "metadata": {},
   "outputs": [],
   "source": [
    "# Split the data into training and test sets (80% training, 20% test)\n",
    "# random_state is set to 42 to ensure reproducibility\n",
    "X_train, X_test, y_train, y_test = train_test_split(X, y, test_size=0.2, random_state=42)"
   ]
  },
  {
   "cell_type": "markdown",
   "metadata": {},
   "source": [
    "## Create and train SVM models with different regularization parameters (C)."
   ]
  },
  {
   "cell_type": "code",
   "execution_count": 3,
   "metadata": {},
   "outputs": [
    {
     "name": "stderr",
     "output_type": "stream",
     "text": [
      "d:\\anaconda\\envs\\venv\\Lib\\site-packages\\sklearn\\linear_model\\_logistic.py:469: ConvergenceWarning: lbfgs failed to converge (status=1):\n",
      "STOP: TOTAL NO. of ITERATIONS REACHED LIMIT.\n",
      "\n",
      "Increase the number of iterations (max_iter) or scale the data as shown in:\n",
      "    https://scikit-learn.org/stable/modules/preprocessing.html\n",
      "Please also refer to the documentation for alternative solver options:\n",
      "    https://scikit-learn.org/stable/modules/linear_model.html#logistic-regression\n",
      "  n_iter_i = _check_optimize_result(\n",
      "d:\\anaconda\\envs\\venv\\Lib\\site-packages\\sklearn\\linear_model\\_logistic.py:469: ConvergenceWarning: lbfgs failed to converge (status=1):\n",
      "STOP: TOTAL NO. of ITERATIONS REACHED LIMIT.\n",
      "\n",
      "Increase the number of iterations (max_iter) or scale the data as shown in:\n",
      "    https://scikit-learn.org/stable/modules/preprocessing.html\n",
      "Please also refer to the documentation for alternative solver options:\n",
      "    https://scikit-learn.org/stable/modules/linear_model.html#logistic-regression\n",
      "  n_iter_i = _check_optimize_result(\n",
      "d:\\anaconda\\envs\\venv\\Lib\\site-packages\\sklearn\\linear_model\\_logistic.py:469: ConvergenceWarning: lbfgs failed to converge (status=1):\n",
      "STOP: TOTAL NO. of ITERATIONS REACHED LIMIT.\n",
      "\n",
      "Increase the number of iterations (max_iter) or scale the data as shown in:\n",
      "    https://scikit-learn.org/stable/modules/preprocessing.html\n",
      "Please also refer to the documentation for alternative solver options:\n",
      "    https://scikit-learn.org/stable/modules/linear_model.html#logistic-regression\n",
      "  n_iter_i = _check_optimize_result(\n",
      "d:\\anaconda\\envs\\venv\\Lib\\site-packages\\sklearn\\linear_model\\_logistic.py:469: ConvergenceWarning: lbfgs failed to converge (status=1):\n",
      "STOP: TOTAL NO. of ITERATIONS REACHED LIMIT.\n",
      "\n",
      "Increase the number of iterations (max_iter) or scale the data as shown in:\n",
      "    https://scikit-learn.org/stable/modules/preprocessing.html\n",
      "Please also refer to the documentation for alternative solver options:\n",
      "    https://scikit-learn.org/stable/modules/linear_model.html#logistic-regression\n",
      "  n_iter_i = _check_optimize_result(\n"
     ]
    }
   ],
   "source": [
    "# Create a list of regularization parameter values\n",
    "C_values = [0.001, 0.01, 0.1, 1, 10, 100, 1000]\n",
    "\n",
    "# Create an empty dictionary to store the results\n",
    "results = {}\n",
    "\n",
    "# Train Logistic Regression models with different C values\n",
    "for C in C_values:\n",
    "    lr_model = LogisticRegression(C=C, random_state=42, max_iter=2000)\n",
    "    lr_model.fit(X_train, y_train)\n",
    "    y_pred = lr_model.predict(X_test)\n",
    "    accuracy = accuracy_score(y_test, y_pred)\n",
    "    results[C] = {\n",
    "        'model': lr_model,\n",
    "        'accuracy': accuracy\n",
    "    }\n"
   ]
  },
  {
   "cell_type": "markdown",
   "metadata": {},
   "source": [
    "## Print the results of the classification."
   ]
  },
  {
   "cell_type": "code",
   "execution_count": 4,
   "metadata": {},
   "outputs": [
    {
     "name": "stdout",
     "output_type": "stream",
     "text": [
      "Results of Logistic Regression Classification:\n",
      "C = 0.001, Accuracy: 0.9649\n",
      "C = 0.01, Accuracy: 0.9649\n",
      "C = 0.1, Accuracy: 0.9649\n",
      "C = 1, Accuracy: 0.9561\n",
      "C = 10, Accuracy: 0.9561\n",
      "C = 100, Accuracy: 0.9561\n",
      "C = 1000, Accuracy: 0.9649\n"
     ]
    }
   ],
   "source": [
    "# Print the results of the classification\n",
    "print(\"Results of Logistic Regression Classification:\")\n",
    "for C, result in results.items():\n",
    "    print(f\"C = {C}, Accuracy: {result['accuracy']:.4f}\")\n"
   ]
  },
  {
   "cell_type": "markdown",
   "metadata": {},
   "source": [
    "# Visualize the accuracy vs regularization parameter (C) for comparaison."
   ]
  },
  {
   "cell_type": "code",
   "execution_count": 5,
   "metadata": {},
   "outputs": [
    {
     "data": {
      "image/png": "[encoded data removed]",
      "text/plain": [
       "<Figure size 800x400 with 1 Axes>"
      ]
     },
     "metadata": {},
     "output_type": "display_data"
    }
   ],
   "source": [
    "# Visualize the accuracy vs regularization parameter (C)\n",
    "accuracies = [result['accuracy'] for C, result in results.items()]\n",
    "\n",
    "plt.figure(figsize=(8, 4))\n",
    "plt.plot(C_values, accuracies, marker='o')\n",
    "plt.xscale('log')\n",
    "plt.xlabel('Regularization Parameter (C)')\n",
    "plt.ylabel('Accuracy')\n",
    "plt.title('Accuracy vs Regularization Parameter (C) for Logistic Regression')\n",
    "plt.grid(True)\n",
    "plt.show()"
   ]
  },
  {
   "cell_type": "markdown",
   "metadata": {},
   "source": [
    "# Conclusion"
   ]
  },
  {
   "cell_type": "markdown",
   "metadata": {},
   "source": [
    "This tutorial covers the Logistic Regression algorithm using the Breast Cancer dataset. It demonstrates how to create and train the Logistic Regression model for classification and prints the accuracy of the model with different values of the regularization parameter (C). The tutorial also visualizes the accuracy vs regularization parameter (C) for comparison.\n",
    "\n",
    "* C controls the regularization strength in logistic regression.\n",
    "* Large C: Weaker regularization, model tries to fit the data as accurately as possible (higher risk of overfitting).\n",
    "* Small C: Stronger regularization, model becomes simpler and avoids overfitting (higher risk of underfitting).\n"
   ]
  }
 ],
 "metadata": {
  "kernelspec": {
   "display_name": "venv",
   "language": "python",
   "name": "python3"
  },
  "language_info": {
   "codemirror_mode": {
    "name": "ipython",
    "version": 3
   },
   "file_extension": ".py",
   "mimetype": "text/x-python",
   "name": "python",
   "nbconvert_exporter": "python",
   "pygments_lexer": "ipython3",
   "version": "3.12.4"
  }
 },
 "nbformat": 4,
 "nbformat_minor": 2
}
